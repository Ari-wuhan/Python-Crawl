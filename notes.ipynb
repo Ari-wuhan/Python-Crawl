{
 "cells": [
  {
   "cell_type": "markdown",
   "id": "7b657f77",
   "metadata": {},
   "source": [
    "#  爬虫基础"
   ]
  },
  {
   "cell_type": "markdown",
   "id": "c5be17db",
   "metadata": {},
   "source": [
    "## HTTP基础"
   ]
  },
  {
   "cell_type": "markdown",
   "id": "fe8c816b",
   "metadata": {},
   "source": [
    "HTTP简介\n",
    "HTTP 是一个客户端终端和服务器端请求和应答的标准。通过使用网页浏览器、网络爬虫或者其它的工具，客户端发起一个 HTTP 请求到服务器上指定端口（默认端口为80）。我们称这个客户端为用户代理程序（user agent）。应答的服务器上存储着一些资源，比如 HTML 文件和图像。我们称这个应答服务器为源服务器（origin server）。在用户代理和源服务器中间可能存在多个“中间层”，比如代理服务器、网关或者隧道（tunnel）。\n",
    "尽管 TCP/IP 协议是互联网上最流行的应用，HTTP 协议中，并没有规定必须使用它或它支持的层。事实上，HTTP 可以在任何互联网协议上，或其他网络上实现。HTTP 假定其下层协议提供可靠的传输。因此，任何能够提供这种保证的协议都可以被其使用。因此也就是其在 TCP/IP 协议族使用 TCP 作为其传输层。\n",
    "\n",
    "HTTP工作原理\n",
    "HTTP 协议工作于客户端-服务端架构上。浏览器作为 HTTP 客户端，通过 URL 向 HTTP 服务端即 WEB 服务器发送所有请求。Web 服务器根据接收到的请求后，向客户端发送响应信息。\n",
    "\n",
    "HTTP消息头\n",
    "HTTP 消息头是指，在超文本传输协议（ Hypertext Transfer Protocol ，HTTP）的请求和响应消息中，协议头部分的那些组件。HTTP 消息头用来准确描述正在获取的资源、服务器或者客户端的行为，定义了 HTTP 事务中的具体操作参数。\n",
    "HTTP头部消息由众多的消息头组成，每个消息头由一个消息名、冒号和消息值三部分组成。消息值是无关大小写的，消息值前可添加任何数量的空格符，消息头可以被扩展为多行，在每行开始处，使用至少一个空格或制表符。\n",
    "\n",
    "常见的消息头信息如下：\n",
    "\n",
    "Accept 可接受的响应内容类型（Content-Types）。示例：Accept: text/plain 状态固定；\n",
    "Accept-Charset 可接受的字符集。示例：Accept-Charset: utf-8 状态固定；\n",
    "Accept-Encoding 可接受的响应内容的编码方式。示例：Accept-Encoding: gzip, deflate 状态固定；\n",
    "Accept-Language 可接受的响应内容语言列表。示例：Accept-Language: en-US 状态固定；\n",
    "Cookie 由之前服务器通过 Set-Cookie 设置的一个 HTTP 协议 Cookie 示例：Cookie: $Version=1; Skin=new; 状态固定；\n",
    "Content-Type 请求体的 MIME 类型 （用于 POST 和 PUT 请求）。示例：Content-Type: application/x-www-form-urlencoded 状态固定。\n",
    "Host 用于指定请求资源的Intenet主机号和端口号，必须表示请求URL的原始服务器或网关的位置。\n",
    "User-Agent 里面包含发出请求的用户信息，其中有使用的浏览器型号、版本和操作系统的信息。这个消息头经常用来作为反爬虫的措施。\n",
    "HTTP请求方式\n",
    "GET 请求指定的页面信息，并返回实体主体；\n",
    "HEAD 类似于 GET 请求，只不过返回的响应中没有具体的内容，用于获取报头；\n",
    "POST 向指定资源提交数据进行处理请求（例如提交表单或者上传文件）。数据被包含在请求体中。POST 请求可能会导致新的资源的建立和已有资源的修改；\n",
    "PUT 从客户端向服务器传送的数据取代指定的文档的内容；\n",
    "DELETE 请求服务器删除指定的页面；\n",
    "CONNECT HTTP/1.1 协议中预留给能够将连接改为管道方式的代理服务器；\n",
    "OPTIONS 允许客户端查看服务器的性能；\n",
    "TRACE 回显服务器收到的请求，主要用于测试或诊断；\n",
    "PATCH 是对 PUT 方法的补充，用来对已知资源进行局部更新 。\n",
    "HTTP状态码\n",
    "常见的 HTTP 状态码如下所示：\n",
    "\n",
    "200 - 请求成功，浏览器会把响应回来的信息显示在浏览器端；\n",
    "301 - 资源（网页等）被永久转移到其它 URL；\n",
    "404 - 请求的资源（网页等）不存在；\n",
    "500 - 内部服务器错误。\n",
    "Cookie\n",
    "网站为了辨别用户身份而储存在用户本地终端（Client Side）上的数据（通常经过加密）。\n",
    "\n",
    "Session\n",
    "Session 称为“会话控制”。Session 对象存储特定用户会话所需的属性及配置信息。这样，当用户在应用程序的 Web 页之间跳转时，存储在 Session 对象中的变量将不会丢失，而是在整个用户会话中一直存在下去。当用户请求来自应用程序的 Web 页时，如果该用户还没有会话，则 Web 服务器将自动创建一个 Session 对象。当会话过期或被放弃后，服务器将终止该会话。Session 对象最常见的一个用法就是存储用户的首选项。"
   ]
  },
  {
   "cell_type": "markdown",
   "id": "ec276110",
   "metadata": {},
   "source": [
    "###  开发者工具\n",
    "开发者工具的介绍\n",
    "开发者工具是一套内置于浏览器中的 Web 开发和调试工具，可用来对网站进行迭代、调试和分析。\n",
    "对于爬虫实战来说，可以通过开发者工具快捷的定位元素，获取中途请求文件和查看网页结构等极其强大与便捷的用途。\n",
    "\n",
    "开发者工具的开启\n",
    "使用 360 浏览器，在网页空白处右击点击审查元素或者在网页按 F12 可打开开发者工具。下图演示的是在百度搜索页面，打开开发者工具后的页面内容。\n",
    ",\n",
    "\n",
    "功能介绍\n",
    "在使用爬虫中开发者工具时，最常用的两个功能模块是元素（ELements）和网络（Network）。\n",
    "\n",
    "元素（Elements）：用于查看或修改 HTML 元素的属性、CSS 属性、监听事件、断点等。CSS 可以即时修改，即时显示，大大方便了开发者调试页面。\n",
    "\n",
    "网络（Network）：网络页面主要用于查看 header 等与网络连接相关的信息。\n",
    "\n",
    "Elements\n",
    "在网页上右击鼠标，选择“ 审查元素 ”（ Inspect ），可进入 Chrome 开发者工具的元素选择器，在工具中选择 Elements 标签页。\n",
    "\n",
    "\n",
    "选择元素 ：通过鼠标去选择页面上某个元素，并定位其在代码中的位置。\n",
    "模拟器 ：模拟不同设备的显示效果，且可以模拟带宽。\n",
    "HTML 代码区 ：显示页面代码，以及选中元素对应的路径。\n",
    "CSS 样式区 ：显示选中元素所受的 CSS 样式影响。\n",
    "虽然在 Elements 定位元素获取数据非常便捷，但是 Elements 里看到的代码不等于是请求网页拿到的返回值。\n",
    "\n",
    "Network\n",
    "在开发者工具里，选择 Network 标签页就进入了网页监控功能，也可称之为“抓包”。\n",
    "\n",
    "Network 是爬虫在开发者工具中用到的最重要的功能，Network 主要解决两个问题：\n",
    "\n",
    "抓什么；\n",
    "怎么抓。\n",
    "抓什么\n",
    "是指对于那些通过异步请求获取到的数据，如何找到它的来源。\n",
    "打开 Network 页面，开启记录，然后刷新页面，就可以看到发出的所有请求，包括数据、JS 、CSS 、图片、文档等等都会显示其中。从请求列表中可以寻找你的目标。\n",
    "\n",
    "一个个去找会很痛苦。这里有几个小技巧：\n",
    "\n",
    "点击搜索功能，直接对内容进行查找。\n",
    "选中 Preseve log ，这样页面刷新和跳转之后，列表不会清空。\n",
    "Filter 栏可以按类型和关键字筛选请求。\n",
    "找到包含数据的请求之后，接下来就是用程序获取数据。这时涉及到第二个问题。\n",
    "怎么抓\n",
    "\n",
    "并不是所有 URL 都能直接通过 GET 获取（相当于在浏览器里打开地址），通常还要考虑这几样东西：\n",
    "\n",
    "请求方法 ，是 GET 还是 POST。\n",
    "请求附带的参数数据 。GET 和 POST 传递参数的方法不一样。\n",
    "Headers 信息 。常用的包括 user-agent、host、referer、cookie 等。其中 cookie 是用来识别请求者身份的关键信息，对于需要登录的网站，这个值是必需的。而另外几项，也经常会被网站用来识别请求的合法性。同样的请求，浏览器里可以，程序里不行，多半就是 Headers 信息不正确。你可以从 Chrome 上把这些信息照搬到程序里，以此绕过对方的限制。"
   ]
  },
  {
   "cell_type": "markdown",
   "id": "527d08de",
   "metadata": {},
   "source": [
    "## JSON基础"
   ]
  },
  {
   "cell_type": "markdown",
   "id": "873adef6",
   "metadata": {},
   "source": [
    "### JSON基础\n"
   ]
  },
  {
   "cell_type": "markdown",
   "id": "d9faca4e",
   "metadata": {},
   "source": [
    "SON 全称：JavaScript Object Notation(JavaScript 对象表示法)，是一种轻量级的文本数据交换格式。与接下来要介绍的 XML 相比，拥有更小、更快、更易解析的特点。\n",
    "\n",
    "一个典型的 JSON 格式的字符串如下："
   ]
  },
  {
   "cell_type": "code",
   "execution_count": null,
   "id": "f7000bc0",
   "metadata": {},
   "outputs": [],
   "source": [
    "{\n",
    "\"students\": \n",
    "    [\n",
    "        { \"name\":\"赵昊\" , \"age\": 15 }, \n",
    "        { \"name\":\"龙傲天\" , \"age\": 16 }, \n",
    "        { \"name\":\"叶良辰\" , \"age\": 17 }\n",
    "    ]\n",
    "}\n",
    "#可以看到其结构和 Python 的list、dict有点相似。"
   ]
  },
  {
   "cell_type": "code",
   "execution_count": null,
   "id": "8c3efcb6",
   "metadata": {},
   "outputs": [],
   "source": [
    "#数据表示\n",
    "#JSON 中数据都以名称:值的形式表示，名称包括在一对双引号\" \"中，值则有多种形式，多条数据之间用逗号,隔开，比如：\n",
    "\"name\":\"赵昊\"\n",
    "\"name\":\"赵昊\",\"age\":15"
   ]
  },
  {
   "cell_type": "markdown",
   "id": "56d81ebf",
   "metadata": {},
   "source": [
    "这种表示方式与 Python 的dict类似。\n",
    "\n",
    "数据类型\n",
    "JSON 的值可以是如下类型：\n",
    "\n",
    "字符串（在双引号中）\n",
    "数字（整数或浮点数）\n",
    "逻辑值（true 或 false）\n",
    "数组（在中括号中）\n",
    "对象（在大括号中）\n",
    "null"
   ]
  },
  {
   "cell_type": "code",
   "execution_count": null,
   "id": "215331d8",
   "metadata": {},
   "outputs": [],
   "source": [
    "#比如：\n",
    "\n",
    "\"name\":\"赵昊\" , \"age\":15 , \"height\":170.5 , \"ismale\" : false ,  house\":null"
   ]
  },
  {
   "cell_type": "code",
   "execution_count": null,
   "id": "ce0163a1",
   "metadata": {},
   "outputs": [],
   "source": [
    "#数组\n",
    "#JSON 的数组用一对方括号[]表示，类似于list，数组元素用逗号,隔开，元素值可以是任意 JSON 数据类型，比如：\n",
    "\n",
    "\"names\":[\"赵昊\",\"龙傲天\",\"叶良辰\"]\n",
    "\"ages\":[15,16,17]\n",
    "\n",
    "#对象\n",
    "#JSON 的对象用一对大括号{}表示，类似于dict，对象可以拥有多个名称/值 对，名称/值 对用逗号,隔开，比如：\n",
    "\n",
    "\"first\":{ \"name\":\"赵昊\" , \"age\": 15 }"
   ]
  },
  {
   "cell_type": "markdown",
   "id": "17e43e76",
   "metadata": {},
   "source": [
    "### 使用JSON库"
   ]
  },
  {
   "cell_type": "markdown",
   "id": "2495ebf2",
   "metadata": {},
   "source": [
    "json库是 Python 内置的一个用于操作 JSON 数据的库，提供了几个函数用于解析与生成（或者说反序列化与序列化）JSON 格式的数据。\n",
    "\n",
    "解析 JSON 数据\n",
    "json库提供了一个函数loads，用于从 Python 的字符串中解析 JSON 数据。使用它的方法很简单，只需将含有 JSON 数据的字符串当做参数传递给它，它的返回值就是由 Python 中的基础数据类型组成的对象。"
   ]
  },
  {
   "cell_type": "markdown",
   "id": "e01da5ab",
   "metadata": {},
   "source": [
    "json库是 Python 内置的一个用于操作 JSON 数据的库，提供了几个函数用于解析与生成（或者说反序列化与序列化）JSON 格式的数据。\n",
    "\n",
    "解析 JSON 数据\n",
    "json库提供了一个函数loads，用于从 Python 的字符串中解析 JSON 数据。使用它的方法很简单，只需将含有 JSON 数据的字符串当做参数传递给它，它的返回值就是由 Python 中的基础数据类型组成的对象。\n",
    "\n",
    "import json\n",
    "data = '{\"a\":1,\"b\":2,\"c\":3,\"d\":4,\"e\":5}';\n",
    "text = json.loads(data)\n",
    "print(text)\n",
    "得到的结果是：\n",
    "\n",
    "{'a': 1, 'b': 2, 'c': 3, 'd': 4, 'e': 5}\n",
    "JSON 的对象类型转换成了 Python 的dict类型。\n",
    "\n",
    "JSON 各种数据类型在解析后，对应的 Python 基础数据类型如下表：\n",
    "\n",
    "JSON\tPython\n",
    "object(对象)\tdict\n",
    "array(数组)\tlist\n",
    "string(字符串)\tunicode\n",
    "number (int)\tint, long\n",
    "number (real)\tfloat\n",
    "true\tTrue\n",
    "false\tFalse\n",
    "null\tNone\n",
    "JSON 数据类型转化成 Python 数据类型后，就可以按照 Python 的方式来使用了：\n",
    "\n",
    "import json\n",
    "data = '[1,2,3]';\n",
    "text = json.loads(data)\n",
    "text.append(4) #调用list的append函数\n",
    "print(text)\n",
    "得到的结果是：\n",
    "\n",
    "[1, 2, 3, 4]\n",
    "如果需要以不同的字符编码来解析，可以指定 encoding 参数，比如：\n",
    "\n",
    "import json\n",
    "data = '{\"a\":1,\"b\":2,\"c\":3,\"d\":4,\"e\":5}';\n",
    "text = json.loads(data,encoding = \"utf-8\")\n",
    "print(text)\n",
    "上面的代码以 utf-8 的字符编码，解析 data 字符串的数据。\n",
    "\n",
    "注意：如果字符编码指定错误，有可能会导致解析失败，引发异常。\n",
    "\n",
    "json 库的另一个函数 load 也是用于解析 JSON 数据的，它与 loads 函数唯一不同的地方在于，它是从文件中解析，比如：\n",
    "\n",
    "import json\n",
    "data = open(\"test.txt\",\"r\",encoding = \"utf-8\")\n",
    "text = json.load(data) #将文件对象传递给load函数\n",
    "print(text)\n",
    "fp.close()\n",
    "这样 test.txt 文件内的内容，就会被当做 JSON 格式的数据来解析。\n",
    "\n",
    "注意：load 函数没有可选参数 encoding ，只要文件对象使用了正确的字符编码打开文件，load 函数就可以正确的解析数据。\n",
    "\n",
    "生成 JSON 数据\n",
    "与解析的那两个函数相对应，json 库也提供了两个函数：dumps 和 dump ，来将由 Python 基础数据类型组成的对象转化成 JSON 数据，使用方法也类似：\n",
    "\n",
    "import json\n",
    "data = [ { 'a' : 1, 'b' : 2, 'c' : 3, 'd' : 4, 'e' : 5 } ]\n",
    "json = json.dumps(data) #转化成JSON格式的字符串\n",
    "print(json)\n",
    "得到的结果是：\n",
    "\n",
    "[{\"a\": 1, \"b\": 2, \"c\": 3, \"d\": 4, \"e\": 5}]\n",
    "注意：这是一个字符串。\n",
    "\n",
    "同样，在转化的时候，也有一个 Python 基础数据类型到 JSON 数据类型的对应表格：\n",
    "\n",
    "Python\tJSON\n",
    "dict\tobject\n",
    "list, tuple\tarray\n",
    "str, unicode\tstring\n",
    "int, long, float\tnumber\n",
    "True\ttrue\n",
    "False\tfalse\n",
    "None\tnull\n",
    "注意：dumps 没有可选参数 encoding ，当要转化的对象含有中文等非 ASCII 字符时，建议指定可选参数 ensure_ascii 为 False 。否则非 ASCII 的字符将会被显示成 \\uXXXX 的形式。\n",
    "\n",
    "data = {\"name\":\"小明\"}\n",
    "print(json.dumps(data)) #ensure_ascii默认值为True\n",
    "print(json.dumps(data,ensure_ascii= False)) #指定ensure_ascii为False\n",
    "上面的代码的结果：\n",
    "\n",
    "{\"name\": \"\\u5c0f\\u660e\"}\n",
    "{\"name\": \"小明\"}\n",
    "使用 dump 函数直接输出到文件也很简单，只需多传递一个文件对象作为参数。\n",
    "\n",
    "import json\n",
    "fp = open(\"test.txt\",\"w\")\n",
    "data = [ { 'a' : 1, 'b' : 2, 'c' : 3, 'd' : 4, 'e' : 5 } ]\n",
    "json.dump(data,fp) #转化成JSON格式的字符串后输出到文件\n",
    "fp.close()\n",
    "test.txt文件的内容：\n",
    "\n",
    "[{\"a\": 1, \"b\": 2, \"c\": 3, \"d\": 4, \"e\": 5}]\n",
    "dump 函数同样也没有可选参数 encoding ，如果数据中有中文字符等非 ASCII 字符时，建议指定可选参数 ensure_ascii 为 False 。"
   ]
  },
  {
   "cell_type": "markdown",
   "id": "ea8166cf",
   "metadata": {},
   "source": [
    "## XPath基础"
   ]
  },
  {
   "cell_type": "markdown",
   "id": "642c0ec6",
   "metadata": {},
   "source": [
    "### XPath 路径表达式"
   ]
  },
  {
   "cell_type": "markdown",
   "id": "df25afe8",
   "metadata": {},
   "source": [
    "解 XPath 路径表达式的基本语法，理解节点的基本类型，完成节点的获取、属性的匹配获取、多属性的匹配获取、文本的获取、按序选择等。\n",
    "\n",
    "节点的基本类型\n",
    "XPath 是一门在 XML 文档中查找信息的语言，虽然是被设计用来搜寻 XML 文档的，但是它也能应用于 HTML 文档，并且大部分浏览器也支持通过 XPath 来查询节点。在 Python 爬虫开发中，经常使用 XPath 查找提取网页中的信息，因此 XPath 非常重要。\n",
    "\n",
    "在 XPath 中, XML 文档是被作为节点树来对待的，有七种类型的节点：元素、属性、文本、命名空间、处理指令、注释以及文档(根)节点。树的根被称为文档节点或者根节点。以下面的 XML 文档为例进行说明:"
   ]
  },
  {
   "cell_type": "code",
   "execution_count": null,
   "id": "6853e930",
   "metadata": {},
   "outputs": [],
   "source": [
    "<?xml version=\"1.0\" encoding=\"UTF-8\"?>\n",
    "<bookstore>\n",
    "<book>\n",
    "  <title lang=\"eng\" class=\"good\">Harry Potter</title>\n",
    "  <price>29.99</price>\n",
    "</book>\n",
    "<book>\n",
    "  <title lang=\"eng\">Learning XML</title>\n",
    "  <price>39.95</price>\n",
    "</book>\n",
    "</bookstore>"
   ]
  },
  {
   "cell_type": "markdown",
   "id": "b733918a",
   "metadata": {},
   "source": [
    "根节点（Root Node）\n",
    "\n",
    "　　根节点是一棵树的最顶层，根节点是唯一的。树上其它所有元素节点都是它的子节点或后代节点。对根节点的处理机制与其它节点相同。对树的匹配总是先从根节点开始。文档中的<bookstore>即为根节点。\n",
    "\n",
    "元素节点（Element Nodes）\n",
    "    \n",
    "　　元素节点相对应的是文档中每个元素，一个元素节点的子节点可以为元素节点、注释节点、处理指令节点和文本节点。元素节点可以定义一个唯一的标识(id)。元素节点可以有拓展名，由两部分组成：命名空间 URL 和本地命名。文档中的<book>即为元素节点。\n",
    "\n",
    "文本节点（Text Nodes）\n",
    "    \n",
    "　　文本节点包含一组字符数据，任何一个文本节点都没有相邻的兄弟文本节点，而且文本节点没有扩展名。文档中的Learning XML即为文本节点。\n",
    "\n",
    "属性节点（Attribute Nodes）\n",
    "    \n",
    "　　每个元素节点有一个相关联的属性节点集合，元素是每个属性节点的父节点，但属性节点却不是其父元素的子节点。这就是说，通过查找元素的子节点可以匹配出元素的属性节点，但反过来不成立，只是单向的。再有，元素的属性节点没有共享性，也就是说不同的元素节点不共有同一个属性节点。文档中的lang=\"eng\"即为属性节点。\n",
    "\n",
    "命名空间节点（Namespace Nodes）\n",
    "    \n",
    "　　每个元素节点都有一个相关联的命名空间节点集。在 XML 文档中，命名空间是通过保留属性声明的。因此，在 XPath 中，该类节点与属性节点极为相似，它们与父元素之间的关系是单向的，并且不具有共享性。\n",
    "\n",
    "处理指令节点（Processing Instruction Nodes）\n",
    "    \n",
    "　　处理指令节点对应于 XML 文档中的每一条处理指令。它也有扩展名，扩展名的本地命名指向处理对象，而命名空间部分为空。\n",
    "\n",
    "注释节点（Comment Nodes）\n",
    "    \n",
    "　　注释节点对应于文档中的注释。\n",
    "\n",
    "Xpath路径表达式的基本语法\n",
    "    \n",
    "XPath 使用路径表达式来选取 XML 文档中的节点或节点集。节点是沿着路径(path)或者步(steps)来选取的。接下来介绍如何选取节点，首先了解一下常用的路径表达式，来进行节点的选取，如下表所示：\n",
    "\n",
    "表达式\t描述\n",
    "    \n",
    "nodename\t选取此节点的所有子节点\n",
    "    \n",
    "/\t从根节点选取\n",
    "    \n",
    "//\t选择任意位置的某个节点\n",
    "    \n",
    ".\t选取当前节点\n",
    "    \n",
    "..\t选取当前节点的父节点\n",
    "    \n",
    "@\t选取属性\n",
    "    \n",
    "根据路径表达式的规则，我们对上文的的 XML 文档进行节点选取，如下表所示。\n",
    "\n",
    "XPath路径表达式\t含义\n",
    "    \n",
    "bookstore\t选取 bookstore 元素的所有子节点\n",
    "    \n",
    "/bookstore\t选取根元素 bookstore\n",
    "    \n",
    "/bookstore/book/text()\t选取属于 bookstore 子元素的 book 元素下的所有文本内容\n",
    "    \n",
    "//book\t选取所有 book 子元素，而不管它们在文档中位置\n",
    "    \n",
    "//@eng\t选取名为 eng 的所有属性\n",
    "    \n",
    "上面选取的例子最后实现的效果都是选取了所有符合条件的节点，是否能选取某个特定的节点或者包含某一个指定的值的节点呢?这就需要用到谓语，谓语被嵌在方括号中，谓语的用法如下表所示。\n",
    "\n",
    "XPath路径表达式\t含义\n",
    "    \n",
    "/bookstore/book[1]\t选取属于 bookstore 子元素的第一个 book 元素\n",
    "    \n",
    "/bookstore/book[last()]\t选取属于 bookstore 子元素的最后一个 book 元素\n",
    "    \n",
    "/bookstore/book[last()-1]\t选取属于 bookstore 子元素的倒数第二个 book 元素\n",
    "    \n",
    "/bookstore/book[position()<3]\t选取最前面的两个属于 bookstore 元素的子元素的 book 元素\n",
    "                              \n",
    "//title[@lang]\t选取所有拥有名为 lang 的属性的 title 元素\n",
    "                              \n",
    "//title[@lang='eng']\t选取所有 title 元素，且这些元素拥有值为 eng 的 lang 属性\n",
    "                              \n",
    "//title[@lang='eng' and @class=\"good\"] \t选取所有 title 元素，且这些元素拥有值为 eng 的 lang 属性和值为good的class属性\n",
    "                              \n",
    "/bookstore/book[price>35.00]\t选取 bookstore 元素的所有 book 元素，且其中的 price 元素的值须大于 35.00\n",
    "    \n",
    "/bookstore/book[price>35.00]/title\t选取 bookstore 元素中的 book 元素的所有 title 元素，且其中的 price 元素的值须大于 35.00\n",
    "    \n",
    "XPath 在进行节点选取的时候可以使用通配符*匹配未知的元素，同时使用操作符|一次选取多条路径，使用示例如下表所示。\n",
    "\n",
    "XPath路径表达式\t含义\n",
    "    \n",
    "/bookstore/*\t选取 bookstore 元素的所有子元素\n",
    "    \n",
    "//*\t选取文档中的所有元素\n",
    "    \n",
    "//title[@*]\t选取所有带有属性的 title 元素\n",
    "    \n",
    "//book/title 丨 //book/price\t选取 book 元素的所有 title 和 price 元素\n",
    "    \n",
    "//title 丨 //price\t选取文档中的所有 title 和 price 元素\n",
    "    \n",
    "/bookstore/book/title 丨 //price\t选取属于 bookstore 元素的 book 元素的所有 title 元素，以及文档中所有的 price 元素"
   ]
  },
  {
   "cell_type": "markdown",
   "id": "deffb0e7",
   "metadata": {},
   "source": [
    "### XPath轴定位"
   ]
  },
  {
   "cell_type": "markdown",
   "id": "15a5488a",
   "metadata": {},
   "source": [
    "了解：XPath 中如何使用轴定位。\n",
    "\n",
    "轴\n",
    "在爬虫里面经常要用到定位，XPath 定位有着举足轻重的地位，因为它功能很强大。结合它里面的文本定位、模糊定位、逻辑定位等，基本能搞定所有的元素定位问题。\n",
    "\n",
    "轴定义了所选节点与当前节点之间的树关系。在 Python 爬虫开发中，提取网页中的信息时，会遇到这种情况：首先提取到一个节点的信息，然后想在在这个节点的基础上提取它的子节点或者父节点，这时候就会用到轴的概念。轴的存在会使提取变得更加灵活和准确。\n",
    "\n",
    "在上一关，我们了解了位置路径表达式中的相对位置路径、绝对位置路径和步的概念。位置路径可以是绝对的，也可以是相对的。绝对路径起始于正斜杠/，而相对路径不会这样。在两种情况中，位置路径均包括一个或多个步，每个步均被斜杠分割： /step/step/..(绝对位置路径)，step/step/.. (相对位置路径)。\n",
    "\n",
    "步(step)包括：轴(axis)、节点测试( node-test)、零个或者更多谓语( predicate)，用来更深入地提炼所选的节点集。XPath 中的轴名及含义如下表所示：\n",
    "\n",
    "轴名\t含义\n",
    "\n",
    "ancestor\t选取当前节点的所有先辈（父或祖父等）\n",
    "\n",
    "ancestor-or-self\t选取当前节点的所有先辈（父或祖父等）以及当前节点本身\n",
    "\n",
    "attribute\t选取当前节点的所有属性\n",
    "\n",
    "child\t选取当前节点的所有子元素\n",
    "\n",
    "descendant\t选取当前节点的所有后代元素（子或孙等）\n",
    "\n",
    "descendant-or-self\t选取当前节点的所有后代元素（子或孙等）以及当前节点本身\n",
    "\n",
    "following\t选取文档中当前节点的结束标签之后的所有节点\n",
    "\n",
    "namespace\t选取当前节点的所有命名空间节点\n",
    "\n",
    "parent\t选取当前节点的父节点\n",
    "\n",
    "preceding\t选取文档中当前节点的开始标签之前的所有节点\n",
    "\n",
    "preceding-sibling\t选取当前节点之前的所有同级节点\n",
    "\n",
    "self\t选取当前节点\n",
    "\n",
    "轴的使用\n",
    "轴需要通过步的语法，来实现节点的选取。步的语法为:轴名称::节点测试[谓语]，大家可能觉比较抽象。下面通过案例演示来帮助理解，XML 文档示例如下所示："
   ]
  },
  {
   "cell_type": "code",
   "execution_count": null,
   "id": "a52c0115",
   "metadata": {},
   "outputs": [],
   "source": [
    "<?xml version=\"1.0\" encoding=\"UTF-8\"?>\n",
    "<bookstore>\n",
    "<book>\n",
    "  <title lang=\"eng\" class=\"good\">Harry Potter</title>\n",
    "  <price>29.99</price>\n",
    "</book>\n",
    "<book>\n",
    "  <title lang=\"eng\">Learning XML</title>\n",
    "  <price>39.95</price>\n",
    "</book>\n",
    "</bookstore>"
   ]
  },
  {
   "cell_type": "markdown",
   "id": "066a6da5",
   "metadata": {},
   "source": [
    "以下为通过步的语法选取节点的示例，表中的截图还演示了如何利用上一关的 XPath 表达式选取同样的节点，可以看出步的语法更简洁。\n",
    "\n",
    "步的语法\t含义\n",
    "\n",
    "child::book\t选取所有属于当前节点的子元素的 book 节点\n",
    "\n",
    "\n",
    "\n",
    "attribute::lang\t选取当前节点的 lang 属性\n",
    "\n",
    "child::*\t选取当前节点的所有子元素\n",
    "例\n",
    "attribute::*\t选取当前节点的所有属性\n",
    "\n",
    "child::text()\t选取当前节点的所有文本子节点\n",
    "\n",
    "child::node()\t选取当前节点的所有子节点\n",
    "\n",
    "descendant::book\t选取当前节点的所有 book 后代\n",
    "\n",
    "\n",
    "ancestor::book\t选择当前节点的所有 book 先辈。\n",
    "\n",
    "ancestor-or-self::book\t选取当前节点的所有 book 先辈以及当前节点（如果此节点是 book 节点）\n",
    "\n",
    "child::*/child::price\t选取当前节点的所有 price 孙节点\n"
   ]
  },
  {
   "cell_type": "markdown",
   "id": "ee11d727",
   "metadata": {},
   "source": [
    "### XPath 解析"
   ]
  },
  {
   "cell_type": "markdown",
   "id": "746a4aca",
   "metadata": {},
   "source": [
    "掌握：Python 环境下使用 XPath 对 HTML 文件进行解析。\n",
    "\n",
    "lxml的安装\n",
    "lxml 是 一个 HTML/XML 的解析器，主要的功能是解析和提取 HTML/XML 数据。lxml 和正则一样，也是用 C 实现的，是一款高性能的 Python HTML/XML 解析器，我们可以利用之前学习的 XPath 语法，来快速地定位特定元素以及节点信息。\n",
    "\n",
    "如果本地 Python 环境没有安装 lxml，可以在命令提示符窗口输入命令pip install lxml，安装 lxml 模块，如下图所示。\n",
    "\n",
    "\n",
    "lxml的使用\n",
    "使用 lxml，需要先导入相关包，语法如下："
   ]
  },
  {
   "cell_type": "code",
   "execution_count": null,
   "id": "3b3e7d58",
   "metadata": {},
   "outputs": [],
   "source": [
    "from lxml import etree  "
   ]
  },
  {
   "cell_type": "markdown",
   "id": "2103e88c",
   "metadata": {},
   "source": [
    "现在有如下 HTML 代码，需要获取第一个 book 节点下的 title 节点中的 class 的属性值:"
   ]
  },
  {
   "cell_type": "code",
   "execution_count": null,
   "id": "bd0a0d5c",
   "metadata": {},
   "outputs": [],
   "source": [
    "<html>\n",
    "<head></head>\n",
    "<body>\n",
    "<bookstore>\n",
    "<book>\n",
    "  <title lang=\"eng\" class=\"good\">Harry Potter</title>\n",
    "  <price>29.99</price>\n",
    "</book>\n",
    "<book>\n",
    "  <title lang=\"eng\">Learning XML</title>\n",
    "  <price>39.95</price>\n",
    "</book>\n",
    "</bookstore>\n",
    "</body>\n",
    "</html>"
   ]
  },
  {
   "cell_type": "markdown",
   "id": "9240ba20",
   "metadata": {},
   "source": [
    "使用 xpath 表达式解析网页之前，需要获取元素树对象，这里有两种方法：\n",
    "\n",
    "如果上述代码为本地文件，并且文件名为test.html，获取元素树对象的代码如下所示："
   ]
  },
  {
   "cell_type": "code",
   "execution_count": null,
   "id": "9d89cbd6",
   "metadata": {},
   "outputs": [],
   "source": [
    "parse = etree.HTMLParser(encoding='utf-8')        # 添加编码\n",
    "tree = etree.parse('test.html', parse)            # 指定本地HTML文件读取"
   ]
  },
  {
   "cell_type": "markdown",
   "id": "6816a0de",
   "metadata": {},
   "source": [
    "如果上述代码为字符串类型变量，并且变量名为html，获取元素树对象的代码如下所示："
   ]
  },
  {
   "cell_type": "code",
   "execution_count": null,
   "id": "6802e736",
   "metadata": {},
   "outputs": [],
   "source": [
    "parse = etree.HTMLParser(encoding='utf-8')        # 添加编码\n",
    "tree = etree.HTML(html, parse)                    # html为python字符串  "
   ]
  },
  {
   "cell_type": "markdown",
   "id": "582c8946",
   "metadata": {},
   "source": [
    "获取元素树对象后，就可以使用 XPath 表达式解析网页了，代码如下所示："
   ]
  },
  {
   "cell_type": "code",
   "execution_count": null,
   "id": "ba8d02cb",
   "metadata": {},
   "outputs": [],
   "source": [
    "result = tree.xpath(xpath表达式)        # 返回类型为列表"
   ]
  },
  {
   "cell_type": "markdown",
   "id": "07f828f4",
   "metadata": {},
   "source": [
    "完成上述指定任务有多种实现方式，以下演示了四种不同的 XPath 表达式，都能够获取第一个 book 节点下的 title 节点中的 class 的属性值。"
   ]
  },
  {
   "cell_type": "code",
   "execution_count": null,
   "id": "e6032713",
   "metadata": {},
   "outputs": [],
   "source": [
    "# 相对路径 book 节点选择\n",
    "print(tree.xpath('//book[1]/title/@class')[0])        \n",
    "# 相对路径 title 节点存在 class 属性条件选择\n",
    "print(tree.xpath('//title[@class]/@class')[0])\n",
    "# 同上, 但是使用了轴选择 class 属性值\n",
    "print(tree.xpath('//title[@class]/attribute::class')[0])\n",
    "# 绝对路径常规选择\n",
    "print(tree.xpath('/html/body/bookstore//book[1]/title/@class')[0])"
   ]
  },
  {
   "cell_type": "code",
   "execution_count": null,
   "id": "5f05fd6c",
   "metadata": {},
   "outputs": [],
   "source": []
  }
 ],
 "metadata": {},
 "nbformat": 4,
 "nbformat_minor": 5
}
